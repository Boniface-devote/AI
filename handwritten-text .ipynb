{
 "cells": [
  {
   "cell_type": "code",
   "execution_count": 1,
   "metadata": {
    "execution": {
     "iopub.execute_input": "2021-10-11T14:10:23.213114Z",
     "iopub.status.busy": "2021-10-11T14:10:23.212755Z",
     "iopub.status.idle": "2021-10-11T14:10:33.682689Z",
     "shell.execute_reply": "2021-10-11T14:10:33.681606Z",
     "shell.execute_reply.started": "2021-10-11T14:10:23.213079Z"
    }
   },
   "outputs": [
    {
     "name": "stdout",
     "output_type": "stream",
     "text": [
      "Requirement already satisfied: imutils in d:\\anaconda\\lib\\site-packages (0.5.4)\n"
     ]
    }
   ],
   "source": [
    "!pip install imutils"
   ]
  },
  {
   "cell_type": "code",
   "execution_count": 2,
   "metadata": {
    "_cell_guid": "79c7e3d0-c299-4dcb-8224-4455121ee9b0",
    "_uuid": "d629ff2d2480ee46fbb7e2d37f6b5fab8052498a",
    "execution": {
     "iopub.execute_input": "2021-10-11T14:10:33.685186Z",
     "iopub.status.busy": "2021-10-11T14:10:33.684783Z",
     "iopub.status.idle": "2021-10-11T14:10:38.919400Z",
     "shell.execute_reply": "2021-10-11T14:10:38.918604Z",
     "shell.execute_reply.started": "2021-10-11T14:10:33.685145Z"
    }
   },
   "outputs": [],
   "source": [
    "import numpy as np\n",
    "import pandas as pd\n",
    "from keras.preprocessing.image import ImageDataGenerator\n",
    "import os\n",
    "import random \n",
    "import cv2\n",
    "import imutils\n",
    "import random\n",
    "import matplotlib.pyplot as plt\n",
    "import seaborn as sns\n",
    "from sklearn.preprocessing import LabelBinarizer\n",
    "from keras.utils import np_utils\n",
    "from keras.models import Sequential\n",
    "from keras import optimizers\n",
    "from sklearn.preprocessing import LabelBinarizer\n",
    "from keras import backend as K\n",
    "from keras.layers import Dense, Activation, Flatten, Dense,MaxPooling2D, Dropout\n",
    "from keras.layers import Conv2D, MaxPooling2D, BatchNormalization"
   ]
  },
  {
   "cell_type": "code",
   "execution_count": 3,
   "metadata": {
    "execution": {
     "iopub.execute_input": "2021-10-11T14:10:38.920989Z",
     "iopub.status.busy": "2021-10-11T14:10:38.920651Z",
     "iopub.status.idle": "2021-10-11T14:20:36.556392Z",
     "shell.execute_reply": "2021-10-11T14:20:36.555456Z",
     "shell.execute_reply.started": "2021-10-11T14:10:38.920956Z"
    }
   },
   "outputs": [],
   "source": [
    "dir = \"D:/AI/Train/\"\n",
    "train_data = []\n",
    "img_size = 32\n",
    "non_chars = [\"$\",\"&\",\"@\"]\n",
    "for i in os.listdir(dir):\n",
    "    if i in non_chars:\n",
    "        continue\n",
    "    count = 0\n",
    "    sub_directory = os.path.join(dir,i)\n",
    "    for j in os.listdir(sub_directory):\n",
    "        count+=1\n",
    "        if count > 4000:\n",
    "            break\n",
    "        img = cv2.imread(os.path.join(sub_directory,j),0)\n",
    "        img = cv2.resize(img,(img_size,img_size))\n",
    "        train_data.append([img,i])"
   ]
  },
  {
   "cell_type": "code",
   "execution_count": 4,
   "metadata": {
    "execution": {
     "iopub.execute_input": "2021-10-11T14:20:36.558011Z",
     "iopub.status.busy": "2021-10-11T14:20:36.557675Z",
     "iopub.status.idle": "2021-10-11T14:20:36.567777Z",
     "shell.execute_reply": "2021-10-11T14:20:36.566461Z",
     "shell.execute_reply.started": "2021-10-11T14:20:36.557977Z"
    }
   },
   "outputs": [
    {
     "data": {
      "text/plain": [
       "140000"
      ]
     },
     "execution_count": 4,
     "metadata": {},
     "output_type": "execute_result"
    }
   ],
   "source": [
    "len(train_data)"
   ]
  },
  {
   "cell_type": "code",
   "execution_count": 5,
   "metadata": {
    "execution": {
     "iopub.execute_input": "2021-10-11T14:20:36.573211Z",
     "iopub.status.busy": "2021-10-11T14:20:36.572724Z",
     "iopub.status.idle": "2021-10-11T14:21:25.082145Z",
     "shell.execute_reply": "2021-10-11T14:21:25.081235Z",
     "shell.execute_reply.started": "2021-10-11T14:20:36.573172Z"
    }
   },
   "outputs": [],
   "source": [
    "val_dir = \"D:/AI/Validation/\"\n",
    "val_data = []\n",
    "img_size = 32\n",
    "for i in os.listdir(val_dir):\n",
    "    if i in non_chars:\n",
    "        continue\n",
    "    count = 0\n",
    "    sub_directory = os.path.join(val_dir,i)\n",
    "    for j in os.listdir(sub_directory):\n",
    "        count+=1\n",
    "        if count > 1000:\n",
    "            break\n",
    "        img = cv2.imread(os.path.join(sub_directory,j),0)\n",
    "        img = cv2.resize(img,(img_size,img_size))\n",
    "        val_data.append([img,i])"
   ]
  },
  {
   "cell_type": "code",
   "execution_count": 6,
   "metadata": {
    "execution": {
     "iopub.execute_input": "2021-10-11T14:21:25.085110Z",
     "iopub.status.busy": "2021-10-11T14:21:25.084811Z",
     "iopub.status.idle": "2021-10-11T14:21:25.094806Z",
     "shell.execute_reply": "2021-10-11T14:21:25.093875Z",
     "shell.execute_reply.started": "2021-10-11T14:21:25.085082Z"
    }
   },
   "outputs": [
    {
     "data": {
      "text/plain": [
       "15209"
      ]
     },
     "execution_count": 6,
     "metadata": {},
     "output_type": "execute_result"
    }
   ],
   "source": [
    "len(val_data)"
   ]
  },
  {
   "cell_type": "code",
   "execution_count": 7,
   "metadata": {
    "execution": {
     "iopub.execute_input": "2021-10-11T14:21:25.097633Z",
     "iopub.status.busy": "2021-10-11T14:21:25.097151Z",
     "iopub.status.idle": "2021-10-11T14:21:25.259561Z",
     "shell.execute_reply": "2021-10-11T14:21:25.258575Z",
     "shell.execute_reply.started": "2021-10-11T14:21:25.097561Z"
    }
   },
   "outputs": [],
   "source": [
    "random.shuffle(train_data)\n",
    "random.shuffle(val_data)"
   ]
  },
  {
   "cell_type": "code",
   "execution_count": 8,
   "metadata": {
    "execution": {
     "iopub.execute_input": "2021-10-11T14:21:25.261195Z",
     "iopub.status.busy": "2021-10-11T14:21:25.260788Z",
     "iopub.status.idle": "2021-10-11T14:21:25.329428Z",
     "shell.execute_reply": "2021-10-11T14:21:25.328666Z",
     "shell.execute_reply.started": "2021-10-11T14:21:25.261152Z"
    }
   },
   "outputs": [],
   "source": [
    "train_X = []\n",
    "train_Y = []\n",
    "for features,label in train_data:\n",
    "    train_X.append(features)\n",
    "    train_Y.append(label)"
   ]
  },
  {
   "cell_type": "code",
   "execution_count": 9,
   "metadata": {
    "execution": {
     "iopub.execute_input": "2021-10-11T14:21:25.331246Z",
     "iopub.status.busy": "2021-10-11T14:21:25.330729Z",
     "iopub.status.idle": "2021-10-11T14:21:25.344682Z",
     "shell.execute_reply": "2021-10-11T14:21:25.343918Z",
     "shell.execute_reply.started": "2021-10-11T14:21:25.331207Z"
    }
   },
   "outputs": [],
   "source": [
    "val_X = []\n",
    "val_Y = []\n",
    "for features,label in val_data:\n",
    "    val_X.append(features)\n",
    "    val_Y.append(label)"
   ]
  },
  {
   "cell_type": "code",
   "execution_count": 10,
   "metadata": {
    "execution": {
     "iopub.execute_input": "2021-10-11T14:21:25.346615Z",
     "iopub.status.busy": "2021-10-11T14:21:25.346178Z",
     "iopub.status.idle": "2021-10-11T14:21:25.700076Z",
     "shell.execute_reply": "2021-10-11T14:21:25.699136Z",
     "shell.execute_reply.started": "2021-10-11T14:21:25.346577Z"
    }
   },
   "outputs": [],
   "source": [
    "LB = LabelBinarizer()\n",
    "train_Y = LB.fit_transform(train_Y)\n",
    "val_Y = LB.fit_transform(val_Y)"
   ]
  },
  {
   "cell_type": "code",
   "execution_count": 11,
   "metadata": {
    "execution": {
     "iopub.execute_input": "2021-10-11T14:21:25.701849Z",
     "iopub.status.busy": "2021-10-11T14:21:25.701488Z",
     "iopub.status.idle": "2021-10-11T14:21:26.275302Z",
     "shell.execute_reply": "2021-10-11T14:21:26.274545Z",
     "shell.execute_reply.started": "2021-10-11T14:21:25.701815Z"
    }
   },
   "outputs": [],
   "source": [
    "train_X = np.array(train_X)/255.0\n",
    "train_X = train_X.reshape(-1,32,32,1)\n",
    "train_Y = np.array(train_Y)"
   ]
  },
  {
   "cell_type": "code",
   "execution_count": 12,
   "metadata": {
    "execution": {
     "iopub.execute_input": "2021-10-11T14:21:26.277357Z",
     "iopub.status.busy": "2021-10-11T14:21:26.276977Z",
     "iopub.status.idle": "2021-10-11T14:21:26.346010Z",
     "shell.execute_reply": "2021-10-11T14:21:26.344992Z",
     "shell.execute_reply.started": "2021-10-11T14:21:26.277322Z"
    }
   },
   "outputs": [],
   "source": [
    "val_X = np.array(val_X)/255.0\n",
    "val_X = val_X.reshape(-1,32,32,1)\n",
    "val_Y = np.array(val_Y)"
   ]
  },
  {
   "cell_type": "code",
   "execution_count": 13,
   "metadata": {
    "execution": {
     "iopub.execute_input": "2021-10-11T14:21:26.347905Z",
     "iopub.status.busy": "2021-10-11T14:21:26.347475Z",
     "iopub.status.idle": "2021-10-11T14:21:26.354044Z",
     "shell.execute_reply": "2021-10-11T14:21:26.352963Z",
     "shell.execute_reply.started": "2021-10-11T14:21:26.347862Z"
    }
   },
   "outputs": [
    {
     "name": "stdout",
     "output_type": "stream",
     "text": [
      "(140000, 32, 32, 1) (15209, 32, 32, 1)\n"
     ]
    }
   ],
   "source": [
    "print(train_X.shape,val_X.shape)"
   ]
  },
  {
   "cell_type": "code",
   "execution_count": 14,
   "metadata": {
    "execution": {
     "iopub.execute_input": "2021-10-11T14:21:26.356404Z",
     "iopub.status.busy": "2021-10-11T14:21:26.355673Z",
     "iopub.status.idle": "2021-10-11T14:21:26.363400Z",
     "shell.execute_reply": "2021-10-11T14:21:26.362129Z",
     "shell.execute_reply.started": "2021-10-11T14:21:26.356345Z"
    }
   },
   "outputs": [
    {
     "name": "stdout",
     "output_type": "stream",
     "text": [
      "(140000, 35) (15209, 35)\n"
     ]
    }
   ],
   "source": [
    "print(train_Y.shape,val_Y.shape)"
   ]
  },
  {
   "cell_type": "code",
   "execution_count": 15,
   "metadata": {
    "execution": {
     "iopub.execute_input": "2021-10-11T14:21:26.365575Z",
     "iopub.status.busy": "2021-10-11T14:21:26.365131Z",
     "iopub.status.idle": "2021-10-11T14:21:28.586792Z",
     "shell.execute_reply": "2021-10-11T14:21:28.585943Z",
     "shell.execute_reply.started": "2021-10-11T14:21:26.365524Z"
    }
   },
   "outputs": [],
   "source": [
    "model = Sequential()\n",
    "\n",
    "model.add(Conv2D(32, (3, 3), padding = \"same\", activation='relu', input_shape=(32,32,1)))\n",
    "model.add(MaxPooling2D(pool_size=(2,2)))\n",
    "model.add(Conv2D(64, (3, 3), activation='relu'))\n",
    "model.add(MaxPooling2D(pool_size=(2,2)))\n",
    "model.add(Conv2D(128, (3, 3), activation='relu'))\n",
    "model.add(MaxPooling2D(pool_size=(2,2)))\n",
    "model.add(Dropout(0.25))\n",
    " \n",
    "model.add(Flatten())\n",
    "model.add(Dense(128, activation='relu'))\n",
    "model.add(Dropout(0.2))\n",
    "model.add(Dense(35, activation='softmax'))"
   ]
  },
  {
   "cell_type": "code",
   "execution_count": 16,
   "metadata": {
    "execution": {
     "iopub.execute_input": "2021-10-11T14:21:28.588420Z",
     "iopub.status.busy": "2021-10-11T14:21:28.588077Z",
     "iopub.status.idle": "2021-10-11T14:21:28.598281Z",
     "shell.execute_reply": "2021-10-11T14:21:28.596288Z",
     "shell.execute_reply.started": "2021-10-11T14:21:28.588386Z"
    }
   },
   "outputs": [
    {
     "name": "stdout",
     "output_type": "stream",
     "text": [
      "Model: \"sequential\"\n",
      "_________________________________________________________________\n",
      " Layer (type)                Output Shape              Param #   \n",
      "=================================================================\n",
      " conv2d (Conv2D)             (None, 32, 32, 32)        320       \n",
      "                                                                 \n",
      " max_pooling2d (MaxPooling2D  (None, 16, 16, 32)       0         \n",
      " )                                                               \n",
      "                                                                 \n",
      " conv2d_1 (Conv2D)           (None, 14, 14, 64)        18496     \n",
      "                                                                 \n",
      " max_pooling2d_1 (MaxPooling  (None, 7, 7, 64)         0         \n",
      " 2D)                                                             \n",
      "                                                                 \n",
      " conv2d_2 (Conv2D)           (None, 5, 5, 128)         73856     \n",
      "                                                                 \n",
      " max_pooling2d_2 (MaxPooling  (None, 2, 2, 128)        0         \n",
      " 2D)                                                             \n",
      "                                                                 \n",
      " dropout (Dropout)           (None, 2, 2, 128)         0         \n",
      "                                                                 \n",
      " flatten (Flatten)           (None, 512)               0         \n",
      "                                                                 \n",
      " dense (Dense)               (None, 128)               65664     \n",
      "                                                                 \n",
      " dropout_1 (Dropout)         (None, 128)               0         \n",
      "                                                                 \n",
      " dense_1 (Dense)             (None, 35)                4515      \n",
      "                                                                 \n",
      "=================================================================\n",
      "Total params: 162,851\n",
      "Trainable params: 162,851\n",
      "Non-trainable params: 0\n",
      "_________________________________________________________________\n"
     ]
    }
   ],
   "source": [
    "model.summary()"
   ]
  },
  {
   "cell_type": "code",
   "execution_count": 17,
   "metadata": {
    "execution": {
     "iopub.execute_input": "2021-10-11T14:21:28.600436Z",
     "iopub.status.busy": "2021-10-11T14:21:28.599869Z",
     "iopub.status.idle": "2021-10-11T14:21:28.619380Z",
     "shell.execute_reply": "2021-10-11T14:21:28.618729Z",
     "shell.execute_reply.started": "2021-10-11T14:21:28.600399Z"
    }
   },
   "outputs": [],
   "source": [
    "model.compile(loss='categorical_crossentropy', optimizer=\"adam\",metrics=['accuracy'])"
   ]
  },
  {
   "cell_type": "code",
   "execution_count": 18,
   "metadata": {
    "execution": {
     "iopub.execute_input": "2021-10-11T14:21:28.621128Z",
     "iopub.status.busy": "2021-10-11T14:21:28.620760Z",
     "iopub.status.idle": "2021-10-11T14:32:40.480963Z",
     "shell.execute_reply": "2021-10-11T14:32:40.479966Z",
     "shell.execute_reply.started": "2021-10-11T14:21:28.621090Z"
    }
   },
   "outputs": [
    {
     "name": "stdout",
     "output_type": "stream",
     "text": [
      "Epoch 1/50\n",
      "4375/4375 [==============================] - 381s 83ms/step - loss: 0.5263 - accuracy: 0.8288 - val_loss: 0.6012 - val_accuracy: 0.8619\n",
      "Epoch 2/50\n",
      "4375/4375 [==============================] - 354s 81ms/step - loss: 0.2928 - accuracy: 0.8968 - val_loss: 0.6434 - val_accuracy: 0.8482\n",
      "Epoch 3/50\n",
      "4375/4375 [==============================] - 354s 81ms/step - loss: 0.2552 - accuracy: 0.9069 - val_loss: 0.5933 - val_accuracy: 0.8632\n",
      "Epoch 4/50\n",
      "4375/4375 [==============================] - 363s 83ms/step - loss: 0.2350 - accuracy: 0.9139 - val_loss: 0.6299 - val_accuracy: 0.8619\n",
      "Epoch 5/50\n",
      "4375/4375 [==============================] - 358s 82ms/step - loss: 0.2216 - accuracy: 0.9185 - val_loss: 0.6214 - val_accuracy: 0.8723\n",
      "Epoch 6/50\n",
      "4375/4375 [==============================] - 373s 85ms/step - loss: 0.2111 - accuracy: 0.9220 - val_loss: 0.6740 - val_accuracy: 0.8752\n",
      "Epoch 7/50\n",
      "4375/4375 [==============================] - 360s 82ms/step - loss: 0.2019 - accuracy: 0.9236 - val_loss: 0.6435 - val_accuracy: 0.8735\n",
      "Epoch 8/50\n",
      "4375/4375 [==============================] - 363s 83ms/step - loss: 0.1936 - accuracy: 0.9265 - val_loss: 0.6228 - val_accuracy: 0.8809\n",
      "Epoch 9/50\n",
      "4375/4375 [==============================] - 367s 84ms/step - loss: 0.1879 - accuracy: 0.9282 - val_loss: 0.6374 - val_accuracy: 0.8811\n",
      "Epoch 10/50\n",
      "4375/4375 [==============================] - 363s 83ms/step - loss: 0.1859 - accuracy: 0.9287 - val_loss: 0.6790 - val_accuracy: 0.8720\n",
      "Epoch 11/50\n",
      "4375/4375 [==============================] - 358s 82ms/step - loss: 0.1816 - accuracy: 0.9294 - val_loss: 0.6716 - val_accuracy: 0.8812\n",
      "Epoch 12/50\n",
      "4375/4375 [==============================] - 363s 83ms/step - loss: 0.1778 - accuracy: 0.9310 - val_loss: 0.7130 - val_accuracy: 0.8667\n",
      "Epoch 13/50\n",
      "4375/4375 [==============================] - 364s 83ms/step - loss: 0.1736 - accuracy: 0.9327 - val_loss: 0.7378 - val_accuracy: 0.8574\n",
      "Epoch 14/50\n",
      "4375/4375 [==============================] - 355s 81ms/step - loss: 0.1714 - accuracy: 0.9332 - val_loss: 0.6803 - val_accuracy: 0.8842\n",
      "Epoch 15/50\n",
      "4375/4375 [==============================] - 362s 83ms/step - loss: 0.1676 - accuracy: 0.9344 - val_loss: 0.7029 - val_accuracy: 0.8712\n",
      "Epoch 16/50\n",
      "4375/4375 [==============================] - 360s 82ms/step - loss: 0.1659 - accuracy: 0.9356 - val_loss: 0.7640 - val_accuracy: 0.8791\n",
      "Epoch 17/50\n",
      "4375/4375 [==============================] - 367s 84ms/step - loss: 0.1634 - accuracy: 0.9356 - val_loss: 0.6668 - val_accuracy: 0.8845\n",
      "Epoch 18/50\n",
      "4375/4375 [==============================] - 357s 82ms/step - loss: 0.1612 - accuracy: 0.9367 - val_loss: 0.7950 - val_accuracy: 0.8663\n",
      "Epoch 19/50\n",
      "4375/4375 [==============================] - 361s 82ms/step - loss: 0.1594 - accuracy: 0.9376 - val_loss: 0.8422 - val_accuracy: 0.8628\n",
      "Epoch 20/50\n",
      "4375/4375 [==============================] - 363s 83ms/step - loss: 0.1579 - accuracy: 0.9378 - val_loss: 0.8417 - val_accuracy: 0.8698\n",
      "Epoch 21/50\n",
      "4375/4375 [==============================] - 359s 82ms/step - loss: 0.1571 - accuracy: 0.9382 - val_loss: 0.7828 - val_accuracy: 0.8753\n",
      "Epoch 22/50\n",
      "4375/4375 [==============================] - 365s 83ms/step - loss: 0.1568 - accuracy: 0.9385 - val_loss: 0.8069 - val_accuracy: 0.8719\n",
      "Epoch 23/50\n",
      "4375/4375 [==============================] - 361s 83ms/step - loss: 0.1539 - accuracy: 0.9391 - val_loss: 0.7276 - val_accuracy: 0.8696\n",
      "Epoch 24/50\n",
      "4375/4375 [==============================] - 357s 82ms/step - loss: 0.1503 - accuracy: 0.9407 - val_loss: 0.7293 - val_accuracy: 0.8838\n",
      "Epoch 25/50\n",
      "4375/4375 [==============================] - 361s 83ms/step - loss: 0.1503 - accuracy: 0.9399 - val_loss: 0.8649 - val_accuracy: 0.8682\n",
      "Epoch 26/50\n",
      "4375/4375 [==============================] - 371s 85ms/step - loss: 0.1523 - accuracy: 0.9403 - val_loss: 0.8013 - val_accuracy: 0.8752\n",
      "Epoch 27/50\n",
      "4375/4375 [==============================] - 365s 83ms/step - loss: 0.1502 - accuracy: 0.9407 - val_loss: 0.8721 - val_accuracy: 0.8750\n",
      "Epoch 28/50\n",
      "4375/4375 [==============================] - 366s 84ms/step - loss: 0.1494 - accuracy: 0.9410 - val_loss: 0.9193 - val_accuracy: 0.8730\n",
      "Epoch 29/50\n",
      "4375/4375 [==============================] - 359s 82ms/step - loss: 0.1492 - accuracy: 0.9411 - val_loss: 0.9423 - val_accuracy: 0.8649\n",
      "Epoch 30/50\n",
      "4375/4375 [==============================] - 360s 82ms/step - loss: 0.1495 - accuracy: 0.9405 - val_loss: 0.8975 - val_accuracy: 0.8789\n",
      "Epoch 31/50\n",
      "4375/4375 [==============================] - 359s 82ms/step - loss: 0.1465 - accuracy: 0.9423 - val_loss: 0.8688 - val_accuracy: 0.8730\n",
      "Epoch 32/50\n",
      "4375/4375 [==============================] - 359s 82ms/step - loss: 0.1486 - accuracy: 0.9416 - val_loss: 0.9513 - val_accuracy: 0.8780\n",
      "Epoch 33/50\n",
      "4375/4375 [==============================] - 365s 83ms/step - loss: 0.1459 - accuracy: 0.9421 - val_loss: 0.9150 - val_accuracy: 0.8730\n",
      "Epoch 34/50\n",
      "4375/4375 [==============================] - 359s 82ms/step - loss: 0.1452 - accuracy: 0.9420 - val_loss: 0.9815 - val_accuracy: 0.8739\n",
      "Epoch 35/50\n",
      "4375/4375 [==============================] - 360s 82ms/step - loss: 0.1452 - accuracy: 0.9429 - val_loss: 0.8592 - val_accuracy: 0.8746\n",
      "Epoch 36/50\n",
      "4375/4375 [==============================] - 357s 82ms/step - loss: 0.1446 - accuracy: 0.9432 - val_loss: 0.9546 - val_accuracy: 0.8727\n",
      "Epoch 37/50\n",
      "4375/4375 [==============================] - 354s 81ms/step - loss: 0.1438 - accuracy: 0.9434 - val_loss: 0.9908 - val_accuracy: 0.8745\n",
      "Epoch 38/50\n",
      "4375/4375 [==============================] - 366s 84ms/step - loss: 0.1411 - accuracy: 0.9437 - val_loss: 0.9808 - val_accuracy: 0.8806\n",
      "Epoch 39/50\n",
      "4375/4375 [==============================] - 353s 81ms/step - loss: 0.1441 - accuracy: 0.9427 - val_loss: 0.9523 - val_accuracy: 0.8725\n",
      "Epoch 40/50\n",
      "4375/4375 [==============================] - 361s 82ms/step - loss: 0.1407 - accuracy: 0.9441 - val_loss: 0.9611 - val_accuracy: 0.8713\n",
      "Epoch 41/50\n",
      "4375/4375 [==============================] - 368s 84ms/step - loss: 0.1418 - accuracy: 0.9442 - val_loss: 0.9744 - val_accuracy: 0.8794\n",
      "Epoch 42/50\n",
      "4375/4375 [==============================] - 362s 83ms/step - loss: 0.1429 - accuracy: 0.9437 - val_loss: 1.0194 - val_accuracy: 0.8701\n",
      "Epoch 43/50\n",
      "4375/4375 [==============================] - 376s 86ms/step - loss: 0.1410 - accuracy: 0.9439 - val_loss: 1.0657 - val_accuracy: 0.8717\n",
      "Epoch 44/50\n",
      "4375/4375 [==============================] - 367s 84ms/step - loss: 0.1421 - accuracy: 0.9445 - val_loss: 0.9106 - val_accuracy: 0.8794\n",
      "Epoch 45/50\n",
      "4375/4375 [==============================] - 373s 85ms/step - loss: 0.1415 - accuracy: 0.9439 - val_loss: 1.0333 - val_accuracy: 0.8800\n",
      "Epoch 46/50\n",
      "4375/4375 [==============================] - 370s 85ms/step - loss: 0.1415 - accuracy: 0.9453 - val_loss: 1.0677 - val_accuracy: 0.8744\n",
      "Epoch 47/50\n",
      "4375/4375 [==============================] - 360s 82ms/step - loss: 0.1398 - accuracy: 0.9451 - val_loss: 1.1293 - val_accuracy: 0.8726\n",
      "Epoch 48/50\n",
      "4375/4375 [==============================] - 350s 80ms/step - loss: 0.1397 - accuracy: 0.9456 - val_loss: 1.0338 - val_accuracy: 0.8726\n",
      "Epoch 49/50\n",
      "4375/4375 [==============================] - 351s 80ms/step - loss: 0.1410 - accuracy: 0.9444 - val_loss: 0.9884 - val_accuracy: 0.8781\n",
      "Epoch 50/50\n",
      "4375/4375 [==============================] - 382s 87ms/step - loss: 0.1393 - accuracy: 0.9449 - val_loss: 1.0493 - val_accuracy: 0.8759\n"
     ]
    }
   ],
   "source": [
    "history = model.fit(train_X,train_Y, epochs=50, batch_size=32, validation_data = (val_X, val_Y),  verbose=1)"
   ]
  },
  {
   "cell_type": "code",
   "execution_count": 19,
   "metadata": {
    "execution": {
     "iopub.execute_input": "2021-10-11T14:32:40.483235Z",
     "iopub.status.busy": "2021-10-11T14:32:40.482833Z",
     "iopub.status.idle": "2021-10-11T14:32:40.904710Z",
     "shell.execute_reply": "2021-10-11T14:32:40.903945Z",
     "shell.execute_reply.started": "2021-10-11T14:32:40.483192Z"
    }
   },
   "outputs": [
    {
     "data": {
      "image/png": "[encoded data removed]",
      "text/plain": [
       "<Figure size 432x288 with 1 Axes>"
      ]
     },
     "metadata": {
      "needs_background": "light"
     },
     "output_type": "display_data"
    }
   ],
   "source": [
    "plt.plot(history.history['accuracy'])\n",
    "plt.plot(history.history['val_accuracy'])\n",
    "plt.title('Training Accuracy vs Validation Accuracy')\n",
    "plt.ylabel('Accuracy')\n",
    "plt.xlabel('Epoch')\n",
    "plt.legend(['Train', 'Validation'], loc='upper left')\n",
    "plt.show()"
   ]
  },
  {
   "cell_type": "code",
   "execution_count": 20,
   "metadata": {
    "execution": {
     "iopub.execute_input": "2021-10-11T14:32:40.907176Z",
     "iopub.status.busy": "2021-10-11T14:32:40.906806Z",
     "iopub.status.idle": "2021-10-11T14:32:41.061404Z",
     "shell.execute_reply": "2021-10-11T14:32:41.060561Z",
     "shell.execute_reply.started": "2021-10-11T14:32:40.907135Z"
    }
   },
   "outputs": [
    {
     "data": {
      "image/png": "[encoded data removed]",
      "text/plain": [
       "<Figure size 432x288 with 1 Axes>"
      ]
     },
     "metadata": {
      "needs_background": "light"
     },
     "output_type": "display_data"
    }
   ],
   "source": [
    "plt.plot(history.history['loss'])\n",
    "plt.plot(history.history['val_loss'])\n",
    "plt.title('Training Loss vs Validation Loss')\n",
    "plt.ylabel('Loss')\n",
    "plt.xlabel('Epoch')\n",
    "plt.legend(['Train', 'Validation'], loc='upper left')\n",
    "plt.show()"
   ]
  },
  {
   "cell_type": "code",
   "execution_count": 21,
   "metadata": {
    "execution": {
     "iopub.execute_input": "2021-10-11T14:32:41.063454Z",
     "iopub.status.busy": "2021-10-11T14:32:41.063076Z",
     "iopub.status.idle": "2021-10-11T14:32:41.072252Z",
     "shell.execute_reply": "2021-10-11T14:32:41.071271Z",
     "shell.execute_reply.started": "2021-10-11T14:32:41.063415Z"
    }
   },
   "outputs": [],
   "source": [
    "def sort_contours(cnts, method=\"left-to-right\"):\n",
    "    reverse = False\n",
    "    i = 0\n",
    "    if method == \"right-to-left\" or method == \"bottom-to-top\":\n",
    "        reverse = True\n",
    "    if method == \"top-to-bottom\" or method == \"bottom-to-top\":\n",
    "        i = 1\n",
    "    boundingBoxes = [cv2.boundingRect(c) for c in cnts]\n",
    "    (cnts, boundingBoxes) = zip(*sorted(zip(cnts, boundingBoxes),\n",
    "    key=lambda b:b[1][i], reverse=reverse))\n",
    "    # return the list of sorted contours and bounding boxes\n",
    "    return (cnts, boundingBoxes)"
   ]
  },
  {
   "cell_type": "code",
   "execution_count": 22,
   "metadata": {
    "execution": {
     "iopub.execute_input": "2021-10-11T14:32:41.074009Z",
     "iopub.status.busy": "2021-10-11T14:32:41.073644Z",
     "iopub.status.idle": "2021-10-11T14:32:41.090683Z",
     "shell.execute_reply": "2021-10-11T14:32:41.089465Z",
     "shell.execute_reply.started": "2021-10-11T14:32:41.073972Z"
    }
   },
   "outputs": [],
   "source": [
    "def get_letters(img):\n",
    "    letters = []\n",
    "    image = cv2.imread(img)\n",
    "    gray = cv2.cvtColor(image, cv2.COLOR_BGR2GRAY)\n",
    "    ret,thresh1 = cv2.threshold(gray ,127,255,cv2.THRESH_BINARY_INV)\n",
    "    dilated = cv2.dilate(thresh1, None, iterations=2)\n",
    "\n",
    "    cnts = cv2.findContours(dilated.copy(), cv2.RETR_EXTERNAL,cv2.CHAIN_APPROX_SIMPLE)\n",
    "    cnts = imutils.grab_contours(cnts)\n",
    "    cnts = sort_contours(cnts, method=\"left-to-right\")[0]\n",
    "    # loop over the contours\n",
    "    for c in cnts:\n",
    "        if cv2.contourArea(c) > 10:\n",
    "            (x, y, w, h) = cv2.boundingRect(c)\n",
    "            cv2.rectangle(image, (x, y), (x + w, y + h), (0, 255, 0), 2)\n",
    "        roi = gray[y:y + h, x:x + w]\n",
    "        thresh = cv2.threshold(roi, 0, 255,cv2.THRESH_BINARY_INV | cv2.THRESH_OTSU)[1]\n",
    "        thresh = cv2.resize(thresh, (32, 32), interpolation = cv2.INTER_CUBIC)\n",
    "        thresh = thresh.astype(\"float32\") / 255.0\n",
    "        thresh = np.expand_dims(thresh, axis=-1)\n",
    "        thresh = thresh.reshape(1,32,32,1)\n",
    "        ypred = model.predict(thresh)\n",
    "        ypred = LB.inverse_transform(ypred)\n",
    "        [x] = ypred\n",
    "        letters.append(x)\n",
    "    return letters, image\n",
    "\n",
    "#plt.imshow(image)"
   ]
  },
  {
   "cell_type": "code",
   "execution_count": 23,
   "metadata": {
    "execution": {
     "iopub.execute_input": "2021-10-11T14:32:41.093083Z",
     "iopub.status.busy": "2021-10-11T14:32:41.092489Z",
     "iopub.status.idle": "2021-10-11T14:32:41.102765Z",
     "shell.execute_reply": "2021-10-11T14:32:41.102096Z",
     "shell.execute_reply.started": "2021-10-11T14:32:41.093008Z"
    }
   },
   "outputs": [],
   "source": [
    "def get_word(letter):\n",
    "    word = \"\".join(letter)\n",
    "    return word"
   ]
  },
  {
   "cell_type": "code",
   "execution_count": 26,
   "metadata": {
    "execution": {
     "iopub.execute_input": "2021-10-11T14:32:42.819325Z",
     "iopub.status.busy": "2021-10-11T14:32:42.819011Z",
     "iopub.status.idle": "2021-10-11T14:32:43.277656Z",
     "shell.execute_reply": "2021-10-11T14:32:43.276687Z",
     "shell.execute_reply.started": "2021-10-11T14:32:42.819297Z"
    }
   },
   "outputs": [
    {
     "name": "stdout",
     "output_type": "stream",
     "text": [
      "1/1 [==============================] - 1s 510ms/step\n",
      "1/1 [==============================] - 0s 31ms/step\n",
      "1/1 [==============================] - 0s 31ms/step\n",
      "1/1 [==============================] - 0s 31ms/step\n",
      "1/1 [==============================] - 0s 31ms/step\n",
      "1/1 [==============================] - 0s 31ms/step\n",
      "1/1 [==============================] - 0s 47ms/step\n",
      "1/1 [==============================] - 0s 31ms/step\n",
      "1/1 [==============================] - 0s 31ms/step\n",
      "VALENTIWE\n"
     ]
    },
    {
     "data": {
      "text/plain": [
       "<matplotlib.image.AxesImage at 0x16def710610>"
      ]
     },
     "execution_count": 26,
     "metadata": {},
     "output_type": "execute_result"
    },
    {
     "data": {
      "image/png": "[encoded data removed]",
      "text/plain": [
       "<Figure size 432x288 with 1 Axes>"
      ]
     },
     "metadata": {
      "needs_background": "light"
     },
     "output_type": "display_data"
    }
   ],
   "source": [
    "letter,image = get_letters(\"D:/AI2/test_v2/test/TEST_0007.jpg\")\n",
    "word = get_word(letter)\n",
    "print(word)\n",
    "plt.imshow(image)"
   ]
  },
  {
   "cell_type": "code",
   "execution_count": 27,
   "metadata": {},
   "outputs": [
    {
     "data": {
      "text/plain": [
       "140000"
      ]
     },
     "execution_count": 27,
     "metadata": {},
     "output_type": "execute_result"
    }
   ],
   "source": [
    "len(train_Y)"
   ]
  },
  {
   "cell_type": "code",
   "execution_count": 28,
   "metadata": {},
   "outputs": [
    {
     "name": "stderr",
     "output_type": "stream",
     "text": [
      "IOPub data rate exceeded.\n",
      "The notebook server will temporarily stop sending output\n",
      "to the client in order to avoid crashing it.\n",
      "To change this limit, set the config variable\n",
      "`--NotebookApp.iopub_data_rate_limit`.\n",
      "\n",
      "Current values:\n",
      "NotebookApp.iopub_data_rate_limit=1000000.0 (bytes/sec)\n",
      "NotebookApp.rate_limit_window=3.0 (secs)\n",
      "\n"
     ]
    }
   ],
   "source": [
    "print(train_data)"
   ]
  },
  {
   "cell_type": "code",
   "execution_count": 29,
   "metadata": {},
   "outputs": [
    {
     "data": {
      "text/plain": [
       "140000"
      ]
     },
     "execution_count": 29,
     "metadata": {},
     "output_type": "execute_result"
    }
   ],
   "source": [
    "len(train_data)"
   ]
  },
  {
   "cell_type": "code",
   "execution_count": 30,
   "metadata": {},
   "outputs": [
    {
     "name": "stdout",
     "output_type": "stream",
     "text": [
      "1/1 [==============================] - 0s 39ms/step\n",
      "1/1 [==============================] - 0s 31ms/step\n",
      "1/1 [==============================] - 0s 31ms/step\n",
      "1/1 [==============================] - 0s 31ms/step\n",
      "1/1 [==============================] - 0s 31ms/step\n",
      "1/1 [==============================] - 0s 31ms/step\n",
      "1/1 [==============================] - 0s 31ms/step\n",
      "1/1 [==============================] - 0s 31ms/step\n",
      "1/1 [==============================] - 0s 32ms/step\n",
      "VALENTIWE\n"
     ]
    },
    {
     "data": {
      "text/plain": [
       "<matplotlib.image.AxesImage at 0x16def5f45b0>"
      ]
     },
     "execution_count": 30,
     "metadata": {},
     "output_type": "execute_result"
    },
    {
     "data": {
      "image/png": "[encoded data removed]",
      "text/plain": [
       "<Figure size 432x288 with 1 Axes>"
      ]
     },
     "metadata": {
      "needs_background": "light"
     },
     "output_type": "display_data"
    }
   ],
   "source": [
    "letter,image = get_letters(\"D:/AI2/test_v2/test/TEST_0007.jpg\")\n",
    "word = get_word(letter)\n",
    "print(word)\n",
    "plt.imshow(image)"
   ]
  },
  {
   "cell_type": "code",
   "execution_count": 31,
   "metadata": {},
   "outputs": [
    {
     "data": {
      "text/plain": [
       "(140000, 32, 32, 1)"
      ]
     },
     "execution_count": 31,
     "metadata": {},
     "output_type": "execute_result"
    }
   ],
   "source": [
    "train_X.shape"
   ]
  },
  {
   "cell_type": "code",
   "execution_count": 32,
   "metadata": {},
   "outputs": [
    {
     "data": {
      "text/plain": [
       "(140000, 35)"
      ]
     },
     "execution_count": 32,
     "metadata": {},
     "output_type": "execute_result"
    }
   ],
   "source": [
    "train_Y.shape"
   ]
  },
  {
   "cell_type": "code",
   "execution_count": null,
   "metadata": {},
   "outputs": [],
   "source": []
  }
 ],
 "metadata": {
  "kernelspec": {
   "display_name": "Python 3 (ipykernel)",
   "language": "python",
   "name": "python3"
  },
  "language_info": {
   "codemirror_mode": {
    "name": "ipython",
    "version": 3
   },
   "file_extension": ".py",
   "mimetype": "text/x-python",
   "name": "python",
   "nbconvert_exporter": "python",
   "pygments_lexer": "ipython3",
   "version": "3.9.12"
  }
 },
 "nbformat": 4,
 "nbformat_minor": 4
}
